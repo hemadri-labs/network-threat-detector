{
 "cells": [
  {
   "cell_type": "code",
   "execution_count": 1,
   "id": "c14102c4-0ac7-4422-9fd5-b605c338ea28",
   "metadata": {},
   "outputs": [
    {
     "name": "stdout",
     "output_type": "stream",
     "text": [
      "Training set shape: (82332, 45)\n",
      "Testing set shape: (175341, 45)\n"
     ]
    }
   ],
   "source": [
    "import pandas as pd\n",
    "\n",
    "# Load the data\n",
    "train_df = pd.read_csv(\"./UNSW_NB15_training-set.csv\")\n",
    "test_df = pd.read_csv(\"./UNSW_NB15_testing-set.csv\")\n",
    "\n",
    "#preview the data\n",
    "print(\"Training set shape:\", train_df.shape)\n",
    "print(\"Testing set shape:\",test_df.shape)\n",
    "#train_df.head()\n"
   ]
  },
  {
   "cell_type": "code",
   "execution_count": 2,
   "id": "92ecc129-5481-47f3-b3d1-465cf299dd1a",
   "metadata": {},
   "outputs": [
    {
     "name": "stdout",
     "output_type": "stream",
     "text": [
      "id        0\n",
      "dwin      0\n",
      "synack    0\n",
      "ackdat    0\n",
      "smean     0\n",
      "dtype: int64\n"
     ]
    }
   ],
   "source": [
    "print(train_df.isnull().sum().sort_values(ascending=False).head())"
   ]
  },
  {
   "cell_type": "code",
   "execution_count": 3,
   "id": "820d9cb6-8e41-485e-8b41-839114a3a3cf",
   "metadata": {},
   "outputs": [],
   "source": [
    "drop_cols = ['id']  # Add more if needed\n",
    "train_df.drop(columns=drop_cols, inplace=True)\n",
    "test_df.drop(columns=drop_cols, inplace=True)\n"
   ]
  },
  {
   "cell_type": "code",
   "execution_count": 4,
   "id": "ab8ae6cb-40a4-4a56-bf91-eddea41f1361",
   "metadata": {},
   "outputs": [],
   "source": [
    "from sklearn.preprocessing import LabelEncoder\n",
    "\n",
    "categorical_cols = ['proto', 'service', 'state']\n",
    "encoders = {}\n",
    "\n",
    "for col in categorical_cols:\n",
    "    le = LabelEncoder()\n",
    "    combined_values = pd.concat([train_df[col], test_df[col]], axis=0)\n",
    "    le.fit(combined_values)\n",
    "    train_df[col] = le.transform(train_df[col])\n",
    "    test_df[col] = le.transform(test_df[col])\n",
    "    encoders[col] = le\n",
    "\n"
   ]
  },
  {
   "cell_type": "code",
   "execution_count": 5,
   "id": "ba2054d4-7d3b-4ad8-a4c4-21945d3e4ee6",
   "metadata": {},
   "outputs": [],
   "source": [
    "#train_df.head()"
   ]
  },
  {
   "cell_type": "code",
   "execution_count": 6,
   "id": "f53bc196-d9e6-4b3f-8b73-3d4c5d9c3eb1",
   "metadata": {},
   "outputs": [],
   "source": [
    "X_train = train_df.drop(columns=['label', 'attack_cat'])\n",
    "y_train = train_df['label']\n",
    "\n",
    "X_test = test_df.drop(columns=['label', 'attack_cat'])\n",
    "y_test = test_df['label']\n"
   ]
  },
  {
   "cell_type": "code",
   "execution_count": 7,
   "id": "d6211f9c-6586-4fc5-837e-0ddf6cd84273",
   "metadata": {},
   "outputs": [],
   "source": [
    "from sklearn.model_selection import train_test_split\n",
    "\n",
    "X_train_split, X_val, y_train_split, y_val = train_test_split(\n",
    "    X_train, y_train, test_size=0.2, random_state=42\n",
    ")\n"
   ]
  },
  {
   "cell_type": "code",
   "execution_count": 8,
   "id": "c96cad87-264b-41e9-82d1-c0cd05412461",
   "metadata": {},
   "outputs": [
    {
     "name": "stdout",
     "output_type": "stream",
     "text": [
      "              precision    recall  f1-score   support\n",
      "\n",
      "           0       0.97      0.98      0.98      7418\n",
      "           1       0.98      0.97      0.98      9049\n",
      "\n",
      "    accuracy                           0.98     16467\n",
      "   macro avg       0.98      0.98      0.98     16467\n",
      "weighted avg       0.98      0.98      0.98     16467\n",
      "\n",
      "[[7283  135]\n",
      " [ 232 8817]]\n"
     ]
    }
   ],
   "source": [
    "from sklearn.ensemble import RandomForestClassifier\n",
    "from sklearn.metrics import classification_report, confusion_matrix\n",
    "\n",
    "model = RandomForestClassifier(n_estimators=100, random_state=42)\n",
    "model.fit(X_train_split, y_train_split)\n",
    "\n",
    "# Evaluate\n",
    "y_pred = model.predict(X_val)\n",
    "print(classification_report(y_val, y_pred))\n",
    "print(confusion_matrix(y_val, y_pred))\n"
   ]
  },
  {
   "cell_type": "code",
   "execution_count": 9,
   "id": "8d5b91f0-7866-440e-a3b8-dddb81e5ccf1",
   "metadata": {},
   "outputs": [
    {
     "name": "stdout",
     "output_type": "stream",
     "text": [
      "Test Set Evaluation:\n",
      "              precision    recall  f1-score   support\n",
      "\n",
      "           0       0.77      0.98      0.86     56000\n",
      "           1       0.99      0.87      0.92    119341\n",
      "\n",
      "    accuracy                           0.90    175341\n",
      "   macro avg       0.88      0.92      0.89    175341\n",
      "weighted avg       0.92      0.90      0.90    175341\n",
      "\n",
      "[[ 54815   1185]\n",
      " [ 15994 103347]]\n"
     ]
    }
   ],
   "source": [
    "y_test_pred = model.predict(X_test)\n",
    "\n",
    "from sklearn.metrics import classification_report, confusion_matrix\n",
    "\n",
    "print(\"Test Set Evaluation:\")\n",
    "print(classification_report(y_test, y_test_pred))\n",
    "print(confusion_matrix(y_test, y_test_pred))\n"
   ]
  },
  {
   "cell_type": "code",
   "execution_count": 10,
   "id": "f45bdd7b-c20c-4ee1-8243-1057585c1113",
   "metadata": {},
   "outputs": [
    {
     "data": {
      "text/plain": [
       "['label_encoders.pkl']"
      ]
     },
     "execution_count": 10,
     "metadata": {},
     "output_type": "execute_result"
    }
   ],
   "source": [
    "import joblib\n",
    "\n",
    "# Save the trained model\n",
    "joblib.dump(model, 'network_intrusion_model.pkl')\n",
    "\n",
    "# Save encoders too (if needed in the web app)\n",
    "joblib.dump(encoders, 'label_encoders.pkl')\n",
    "\n",
    "\n"
   ]
  },
  {
   "cell_type": "code",
   "execution_count": 11,
   "id": "796e630f-ade2-427c-8c93-aaa5a5c712ac",
   "metadata": {},
   "outputs": [],
   "source": [
    "import pickle\n",
    "\n",
    "# Get the column names used in training\n",
    "feature_names = X_train_split.columns.tolist()\n",
    "# Save to a .pkl file\n",
    "with open(\"feature_names.pkl\", \"wb\") as f:\n",
    "    pickle.dump(feature_names, f)\n"
   ]
  },
  {
   "cell_type": "code",
   "execution_count": 12,
   "id": "740e1d64-19c5-4a11-afa8-626d8f71ef1d",
   "metadata": {},
   "outputs": [],
   "source": [
    "import shutil\n",
    "import glob\n",
    "import os\n",
    "\n",
    "# Define source and destination folders\n",
    "src_folder = \"/Users/hemadrimhaskar/mini_proj/network_threat_detection\"\n",
    "dst_folder = \"/Users/hemadrimhaskar/mini_proj/network_threat_detection/ml_web_app\"\n",
    "\n",
    "# Create destination folder if it doesn't exist\n",
    "os.makedirs(dst_folder, exist_ok=True)\n",
    "\n",
    "# Move all .pkl files\n",
    "for file_path in glob.glob(os.path.join(src_folder, \"*.pkl\")):\n",
    "    filename = os.path.basename(file_path)\n",
    "    dest_path = os.path.join(dst_folder, filename)\n",
    "\n",
    "    if os.path.exists(dest_path):\n",
    "        os.remove(dest_path)  # force overwrite\n",
    "\n",
    "    shutil.move(file_path, dest_path)\n"
   ]
  }
 ],
 "metadata": {
  "kernelspec": {
   "display_name": "Python miniproj",
   "language": "python",
   "name": "miniproj"
  },
  "language_info": {
   "codemirror_mode": {
    "name": "ipython",
    "version": 3
   },
   "file_extension": ".py",
   "mimetype": "text/x-python",
   "name": "python",
   "nbconvert_exporter": "python",
   "pygments_lexer": "ipython3",
   "version": "3.9.6"
  }
 },
 "nbformat": 4,
 "nbformat_minor": 5
}
